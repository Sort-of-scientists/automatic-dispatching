{
 "cells": [
  {
   "cell_type": "code",
   "execution_count": 1,
   "metadata": {},
   "outputs": [],
   "source": [
    "import pandas as pd\n",
    "from gpt_sender_async import GPT_API as gpt\n",
    "import asyncio\n",
    "from tqdm import tqdm\n",
    "import json"
   ]
  },
  {
   "cell_type": "code",
   "execution_count": 2,
   "metadata": {},
   "outputs": [],
   "source": [
    "df = pd.read_csv(\"data.csv\", index_col=0)\n",
    "df = df[df[\"Предложенная Точка отказа\"].isna()]"
   ]
  },
  {
   "cell_type": "code",
   "execution_count": 3,
   "metadata": {},
   "outputs": [
    {
     "data": {
      "text/html": [
       "<div>\n",
       "<style scoped>\n",
       "    .dataframe tbody tr th:only-of-type {\n",
       "        vertical-align: middle;\n",
       "    }\n",
       "\n",
       "    .dataframe tbody tr th {\n",
       "        vertical-align: top;\n",
       "    }\n",
       "\n",
       "    .dataframe thead th {\n",
       "        text-align: right;\n",
       "    }\n",
       "</style>\n",
       "<table border=\"1\" class=\"dataframe\">\n",
       "  <thead>\n",
       "    <tr style=\"text-align: right;\">\n",
       "      <th></th>\n",
       "      <th>Тема</th>\n",
       "      <th>Описание</th>\n",
       "      <th>Тип оборудования</th>\n",
       "      <th>Точка отказа</th>\n",
       "      <th>Серийный номер</th>\n",
       "      <th>Предложенная Точка отказа</th>\n",
       "    </tr>\n",
       "    <tr>\n",
       "      <th>index</th>\n",
       "      <th></th>\n",
       "      <th></th>\n",
       "      <th></th>\n",
       "      <th></th>\n",
       "      <th></th>\n",
       "      <th></th>\n",
       "    </tr>\n",
       "  </thead>\n",
       "  <tbody>\n",
       "    <tr>\n",
       "      <th>0</th>\n",
       "      <td>Не работает блок питания</td>\n",
       "      <td>В течении недели перестал внезапно работать бл...</td>\n",
       "      <td>Ноутбук</td>\n",
       "      <td>Блок питания</td>\n",
       "      <td>C223100360</td>\n",
       "      <td>NaN</td>\n",
       "    </tr>\n",
       "    <tr>\n",
       "      <th>3</th>\n",
       "      <td>Повреждение матрицы</td>\n",
       "      <td>Прошу произвести диагностику и сориентировать ...</td>\n",
       "      <td>Ноутбук</td>\n",
       "      <td>Матрица</td>\n",
       "      <td>NaN</td>\n",
       "      <td>NaN</td>\n",
       "    </tr>\n",
       "  </tbody>\n",
       "</table>\n",
       "</div>"
      ],
      "text/plain": [
       "                           Тема  \\\n",
       "index                             \n",
       "0      Не работает блок питания   \n",
       "3           Повреждение матрицы   \n",
       "\n",
       "                                                Описание Тип оборудования  \\\n",
       "index                                                                       \n",
       "0      В течении недели перестал внезапно работать бл...          Ноутбук   \n",
       "3      Прошу произвести диагностику и сориентировать ...          Ноутбук   \n",
       "\n",
       "       Точка отказа Серийный номер Предложенная Точка отказа  \n",
       "index                                                         \n",
       "0      Блок питания     C223100360                       NaN  \n",
       "3           Матрица            NaN                       NaN  "
      ]
     },
     "execution_count": 3,
     "metadata": {},
     "output_type": "execute_result"
    }
   ],
   "source": [
    "df.head(2)"
   ]
  },
  {
   "cell_type": "code",
   "execution_count": 5,
   "metadata": {},
   "outputs": [],
   "source": [
    "def get_prompt(tema, opisanie, oborudovanie, tochka_otkaza):\n",
    "    return '''\"\"\"\n",
    "Тема: {}\n",
    "Описание: {}\n",
    "Оборудование: {}\n",
    "Точка отказа: {}\n",
    "\"\"\"\n",
    "Выше представлено обращение пользователя в тех поддержку с темой, описанием и проблемой.\n",
    "Сгенерируй 10 разных непохожих обращений, опираясь на точку отказа и оборудование на котором произошел отказ.\n",
    "\n",
    "Верни в формате json. \n",
    "Пример: {{1 : {{\"Тема\": str, \"Описание\": str}}}}\n",
    "Где вместо str должны быть тема и описание проблемы и так для 10 обращений. Return only JSON.\n",
    "'''.format(tema, opisanie, oborudovanie, tochka_otkaza)\n",
    "    "
   ]
  },
  {
   "cell_type": "code",
   "execution_count": 7,
   "metadata": {},
   "outputs": [],
   "source": [
    "async def get_responses(prompts):\n",
    "    tasks = [gpt.get_response(prompt, json_output=True) \n",
    "             for prompt in prompts]\n",
    "    responses = await asyncio.gather(*tasks)\n",
    "    return responses\n"
   ]
  },
  {
   "cell_type": "code",
   "execution_count": 12,
   "metadata": {},
   "outputs": [
    {
     "name": "stderr",
     "output_type": "stream",
     "text": [
      "100%|██████████| 21/21 [03:08<00:00,  8.97s/it]\n"
     ]
    }
   ],
   "source": [
    "batch_size = 8\n",
    "result = []\n",
    "for i in tqdm(range(0, len(df), batch_size)):\n",
    "    # Add the batch to the batches list.\n",
    "\n",
    "    data = []\n",
    "    for index, row in df[i:i+batch_size].iterrows():\n",
    "        data.append([row[\"Тема\"], row[\"Описание\"], row[\"Тип оборудования\"], row[\"Точка отказа\"]])\n",
    "\n",
    "    summaries = await get_responses([get_prompt(*row) for row in data])\n",
    "\n",
    "    for row, summary in zip(data, summaries):\n",
    "\n",
    "        if summary is None:\n",
    "            continue\n",
    "        \n",
    "        result.append({\"Тип оборудования\": row[2], \"Точка отказа\": row[3], \"Обращения\": summary})"
   ]
  },
  {
   "cell_type": "code",
   "execution_count": 13,
   "metadata": {},
   "outputs": [],
   "source": [
    "with open(\"new_data_gpt4o_v2.jsonl\", 'w') as file:\n",
    "    for entry in result:\n",
    "        json_line = json.dumps(entry,ensure_ascii=False)  # Convert dictionary to JSON string\n",
    "        file.write(json_line + '\\n')   "
   ]
  },
  {
   "cell_type": "code",
   "execution_count": null,
   "metadata": {},
   "outputs": [],
   "source": []
  }
 ],
 "metadata": {
  "kernelspec": {
   "display_name": "base",
   "language": "python",
   "name": "python3"
  },
  "language_info": {
   "codemirror_mode": {
    "name": "ipython",
    "version": 3
   },
   "file_extension": ".py",
   "mimetype": "text/x-python",
   "name": "python",
   "nbconvert_exporter": "python",
   "pygments_lexer": "ipython3",
   "version": "3.10.9"
  }
 },
 "nbformat": 4,
 "nbformat_minor": 2
}
