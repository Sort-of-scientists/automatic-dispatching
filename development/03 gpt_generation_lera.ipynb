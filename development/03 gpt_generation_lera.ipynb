{
 "cells": [
  {
   "cell_type": "code",
   "execution_count": 1,
   "metadata": {},
   "outputs": [],
   "source": [
    "import pandas as pd\n",
    "from gpt_sender_async import GPT_API as gpt\n",
    "import asyncio\n",
    "from tqdm import tqdm\n",
    "import json"
   ]
  },
  {
   "cell_type": "code",
   "execution_count": 3,
   "metadata": {},
   "outputs": [],
   "source": [
    "df = pd.read_csv(\"train_data.csv\", index_col=0)"
   ]
  },
  {
   "cell_type": "code",
   "execution_count": 4,
   "metadata": {},
   "outputs": [
    {
     "data": {
      "text/html": [
       "<div>\n",
       "<style scoped>\n",
       "    .dataframe tbody tr th:only-of-type {\n",
       "        vertical-align: middle;\n",
       "    }\n",
       "\n",
       "    .dataframe tbody tr th {\n",
       "        vertical-align: top;\n",
       "    }\n",
       "\n",
       "    .dataframe thead th {\n",
       "        text-align: right;\n",
       "    }\n",
       "</style>\n",
       "<table border=\"1\" class=\"dataframe\">\n",
       "  <thead>\n",
       "    <tr style=\"text-align: right;\">\n",
       "      <th></th>\n",
       "      <th>Тема</th>\n",
       "      <th>Описание</th>\n",
       "      <th>Тип оборудования</th>\n",
       "      <th>Точка отказа</th>\n",
       "      <th>Серийный номер</th>\n",
       "    </tr>\n",
       "    <tr>\n",
       "      <th>index</th>\n",
       "      <th></th>\n",
       "      <th></th>\n",
       "      <th></th>\n",
       "      <th></th>\n",
       "      <th></th>\n",
       "    </tr>\n",
       "  </thead>\n",
       "  <tbody>\n",
       "    <tr>\n",
       "      <th>0</th>\n",
       "      <td>Не работает блок питания</td>\n",
       "      <td>В течении недели перестал внезапно работать бл...</td>\n",
       "      <td>Ноутбук</td>\n",
       "      <td>Блок питания</td>\n",
       "      <td>C223100360</td>\n",
       "    </tr>\n",
       "    <tr>\n",
       "      <th>1</th>\n",
       "      <td>Не включается SILA LLC HK2-3404.</td>\n",
       "      <td>Добрый день!_x000D_\\nПодскажите пожалуйста что...</td>\n",
       "      <td>Ноутбук</td>\n",
       "      <td>Материнская плата</td>\n",
       "      <td>C223094534</td>\n",
       "    </tr>\n",
       "  </tbody>\n",
       "</table>\n",
       "</div>"
      ],
      "text/plain": [
       "                                   Тема  \\\n",
       "index                                     \n",
       "0              Не работает блок питания   \n",
       "1      Не включается SILA LLC HK2-3404.   \n",
       "\n",
       "                                                Описание Тип оборудования  \\\n",
       "index                                                                       \n",
       "0      В течении недели перестал внезапно работать бл...          Ноутбук   \n",
       "1      Добрый день!_x000D_\\nПодскажите пожалуйста что...          Ноутбук   \n",
       "\n",
       "            Точка отказа Серийный номер  \n",
       "index                                    \n",
       "0           Блок питания     C223100360  \n",
       "1      Материнская плата     C223094534  "
      ]
     },
     "execution_count": 4,
     "metadata": {},
     "output_type": "execute_result"
    }
   ],
   "source": [
    "df.head(2)"
   ]
  },
  {
   "cell_type": "code",
   "execution_count": 15,
   "metadata": {},
   "outputs": [],
   "source": [
    "values = []\n",
    "for value in df[\"Точка отказа\"].value_counts().index:\n",
    "    values.append(value.strip())\n",
    "values = set(values)"
   ]
  },
  {
   "cell_type": "code",
   "execution_count": 83,
   "metadata": {},
   "outputs": [],
   "source": [
    "res = \"\"\n",
    "for value in values:\n",
    "    res += f'{{{{\"{value}: bool}}}}, ' "
   ]
  },
  {
   "cell_type": "code",
   "execution_count": 98,
   "metadata": {},
   "outputs": [],
   "source": [
    "def get_prompt(tema, opisanie, oborudovanie):\n",
    "    return '''\"\"\"\n",
    "Тема: {}\n",
    "Описание: {}\n",
    "Оборудование: {}\n",
    "\"\"\"\n",
    "Выше представлено обращение пользователя в тех поддержку с темой, описанием и оборудованием.\n",
    "Ты должна выполнить multilable classification, определить к каким классам точки отказа относится обращения, классов может быть\n",
    "\n",
    "Верни в формате json. \n",
    "Пример: {{{{\"Матрица: bool}}, {{\"Клавиатура: bool}}, {{\"Оперативная память: bool}}, {{\"Блок питания: bool}}, {{\"Материнская плата: bool}}, {{\"Сервер: bool}}, {{\"Диск: bool}}, {{\"Wi-fi модуль: bool}}, {{\"Корпус: bool}}, {{\"Wi-fi антенна: bool}}, {{\"Jack: bool}}, {{\"SFP модуль: bool}}, {{\"Камера: bool}}, {{\"Динамики: bool}}, {{\"Консультация: bool}}, {{\"Вентилятор: bool}}, {{\"Аккумулятор: bool}}, {{\"Программное обеспечение: bool}}}} \n",
    "Где вместо bool должно быть true если проблема связана с этим классом и false если нет.\n",
    "\"Консультация\" - если у пользователя есть вопрос не касательно поломки (в какой филиал обратиться или еще подобные вопросы)\n",
    "\"Jack\" - если сломан разъем для наушников\n",
    "Return only JSON.\n",
    "'''.format(tema, opisanie, oborudovanie)\n",
    "    "
   ]
  },
  {
   "cell_type": "code",
   "execution_count": 100,
   "metadata": {},
   "outputs": [],
   "source": [
    "async def get_responses(prompts):\n",
    "    tasks = [gpt.get_response(prompt, json_output=True) \n",
    "             for prompt in prompts]\n",
    "    responses = await asyncio.gather(*tasks)\n",
    "    return responses"
   ]
  },
  {
   "cell_type": "code",
   "execution_count": 103,
   "metadata": {},
   "outputs": [
    {
     "name": "stderr",
     "output_type": "stream",
     "text": [
      "100%|██████████| 25/25 [01:51<00:00,  4.48s/it]\n"
     ]
    }
   ],
   "source": [
    "batch_size = 8\n",
    "result = []\n",
    "for i in tqdm(range(0, len(df), batch_size)):\n",
    "    # Add the batch to the batches list.\n",
    "\n",
    "    data = []\n",
    "    for index, row in df[i:i+batch_size].iterrows():\n",
    "        data.append([row[\"Тема\"], row[\"Описание\"], row[\"Тип оборудования\"]])\n",
    "\n",
    "    summaries = await get_responses([get_prompt(*row) for row in data])\n",
    "\n",
    "    for row, summary in zip(data, summaries):\n",
    "\n",
    "        if summary is None:\n",
    "            continue\n",
    "        \n",
    "        result.append({\"Тема\": row[0], \"Описание\": row[1], \"Тип оборудования\": row[2], \"Обращения\": summary})"
   ]
  },
  {
   "cell_type": "code",
   "execution_count": 106,
   "metadata": {},
   "outputs": [],
   "source": [
    "with open(\"multilable_gpt4o.jsonl\", 'w') as file:\n",
    "    for entry in result:\n",
    "        json_line = json.dumps(entry,ensure_ascii=False)  # Convert dictionary to JSON string\n",
    "        file.write(json_line + '\\n')   "
   ]
  },
  {
   "cell_type": "code",
   "execution_count": null,
   "metadata": {},
   "outputs": [],
   "source": []
  }
 ],
 "metadata": {
  "kernelspec": {
   "display_name": "base",
   "language": "python",
   "name": "python3"
  },
  "language_info": {
   "codemirror_mode": {
    "name": "ipython",
    "version": 3
   },
   "file_extension": ".py",
   "mimetype": "text/x-python",
   "name": "python",
   "nbconvert_exporter": "python",
   "pygments_lexer": "ipython3",
   "version": "3.10.9"
  }
 },
 "nbformat": 4,
 "nbformat_minor": 2
}
