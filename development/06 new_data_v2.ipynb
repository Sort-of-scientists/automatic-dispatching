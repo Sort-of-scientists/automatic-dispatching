{
 "cells": [
  {
   "cell_type": "code",
   "execution_count": 1,
   "metadata": {},
   "outputs": [],
   "source": [
    "import json\n",
    "import pandas as pd\n",
    "\n",
    "with open('new_data_gpt4o_v2.jsonl') as f:\n",
    "    data = [json.loads(line) for line in f]"
   ]
  },
  {
   "cell_type": "code",
   "execution_count": 2,
   "metadata": {},
   "outputs": [],
   "source": [
    "result = []\n",
    "for row in data:\n",
    "    for val in row[\"Обращения\"].values():\n",
    "        result.append({\n",
    "            'Тема': val['Тема'],\n",
    "            'Описание': val['Описание'],\n",
    "            'Тип оборудования': row['Тип оборудования'],\n",
    "            'Точка отказа': row['Точка отказа']})"
   ]
  },
  {
   "cell_type": "code",
   "execution_count": 3,
   "metadata": {},
   "outputs": [],
   "source": [
    "df = pd.DataFrame(result)"
   ]
  },
  {
   "cell_type": "code",
   "execution_count": 4,
   "metadata": {},
   "outputs": [
    {
     "data": {
      "text/plain": [
       "Блок питания               1890\n",
       "Матрица                    1785\n",
       "Материнская плата          1495\n",
       "Диск                        695\n",
       "Консультация                600\n",
       "Вентилятор                  300\n",
       "Клавиатура                  295\n",
       "Оперативная память          200\n",
       "Wi-fi модуль                200\n",
       "Wi-fi антенна               200\n",
       "Программное обеспечение     150\n",
       "Сервер                      100\n",
       "Корпус                       50\n",
       "Динамики                     50\n",
       "Камера                       50\n",
       "Аккумулятор                  50\n",
       "SFP модуль                   50\n",
       "Jack                         50\n",
       "Name: Точка отказа, dtype: int64"
      ]
     },
     "execution_count": 4,
     "metadata": {},
     "output_type": "execute_result"
    }
   ],
   "source": [
    "df[\"Точка отказа\"].value_counts()"
   ]
  },
  {
   "cell_type": "code",
   "execution_count": 5,
   "metadata": {},
   "outputs": [],
   "source": [
    "df_prev = pd.read_csv(\"new_data_v2.csv\", index_col=0).drop(columns=[\"Серийный номер\"])"
   ]
  },
  {
   "cell_type": "code",
   "execution_count": 6,
   "metadata": {},
   "outputs": [],
   "source": [
    "# df_prev = df_prev[df_prev[\"Точка отказа\"] != \"Консультация\"]\n",
    "# df = df[df[\"Точка отказа\"] != \"Консультация\"]\n",
    "\n",
    "df_prev[\"Точка отказа\"] = df_prev[\"Точка отказа\"].apply(lambda x: x.strip())\n",
    "df[\"Точка отказа\"] = df[\"Точка отказа\"].apply(lambda x: x.strip())"
   ]
  },
  {
   "cell_type": "code",
   "execution_count": 7,
   "metadata": {},
   "outputs": [
    {
     "data": {
      "text/plain": [
       "(8210, 1650)"
      ]
     },
     "execution_count": 7,
     "metadata": {},
     "output_type": "execute_result"
    }
   ],
   "source": [
    "len(df), len(df_prev)"
   ]
  },
  {
   "cell_type": "code",
   "execution_count": 8,
   "metadata": {},
   "outputs": [
    {
     "data": {
      "text/html": [
       "<div>\n",
       "<style scoped>\n",
       "    .dataframe tbody tr th:only-of-type {\n",
       "        vertical-align: middle;\n",
       "    }\n",
       "\n",
       "    .dataframe tbody tr th {\n",
       "        vertical-align: top;\n",
       "    }\n",
       "\n",
       "    .dataframe thead th {\n",
       "        text-align: right;\n",
       "    }\n",
       "</style>\n",
       "<table border=\"1\" class=\"dataframe\">\n",
       "  <thead>\n",
       "    <tr style=\"text-align: right;\">\n",
       "      <th></th>\n",
       "      <th>Тема</th>\n",
       "      <th>Описание</th>\n",
       "      <th>Тип оборудования</th>\n",
       "      <th>Точка отказа</th>\n",
       "    </tr>\n",
       "  </thead>\n",
       "  <tbody>\n",
       "    <tr>\n",
       "      <th>0</th>\n",
       "      <td>Проблема с веб-камерой</td>\n",
       "      <td>Не могу запустить камеру на ноутбуке во время ...</td>\n",
       "      <td>Ноутбук</td>\n",
       "      <td>Камера</td>\n",
       "    </tr>\n",
       "    <tr>\n",
       "      <th>1</th>\n",
       "      <td>Камера ноутбука не функционирует</td>\n",
       "      <td>На моем ноутбуке веб-камера не работает. Пробо...</td>\n",
       "      <td>Ноутбук</td>\n",
       "      <td>Камера</td>\n",
       "    </tr>\n",
       "    <tr>\n",
       "      <th>2</th>\n",
       "      <td>Неполадки с камерой</td>\n",
       "      <td>У моего ноутбука возникла проблема: камера не ...</td>\n",
       "      <td>Ноутбук</td>\n",
       "      <td>Камера</td>\n",
       "    </tr>\n",
       "    <tr>\n",
       "      <th>3</th>\n",
       "      <td>Не работает встроенная камера</td>\n",
       "      <td>Встроенная веб-камера на ноутбуке перестала вк...</td>\n",
       "      <td>Ноутбук</td>\n",
       "      <td>Камера</td>\n",
       "    </tr>\n",
       "    <tr>\n",
       "      <th>4</th>\n",
       "      <td>Вопрос по камере ноутбука</td>\n",
       "      <td>Наткнулся на проблему с камерой на своем ноутб...</td>\n",
       "      <td>Ноутбук</td>\n",
       "      <td>Камера</td>\n",
       "    </tr>\n",
       "  </tbody>\n",
       "</table>\n",
       "</div>"
      ],
      "text/plain": [
       "                               Тема  \\\n",
       "0            Проблема с веб-камерой   \n",
       "1  Камера ноутбука не функционирует   \n",
       "2               Неполадки с камерой   \n",
       "3     Не работает встроенная камера   \n",
       "4         Вопрос по камере ноутбука   \n",
       "\n",
       "                                            Описание Тип оборудования  \\\n",
       "0  Не могу запустить камеру на ноутбуке во время ...          Ноутбук   \n",
       "1  На моем ноутбуке веб-камера не работает. Пробо...          Ноутбук   \n",
       "2  У моего ноутбука возникла проблема: камера не ...          Ноутбук   \n",
       "3  Встроенная веб-камера на ноутбуке перестала вк...          Ноутбук   \n",
       "4  Наткнулся на проблему с камерой на своем ноутб...          Ноутбук   \n",
       "\n",
       "  Точка отказа  \n",
       "0       Камера  \n",
       "1       Камера  \n",
       "2       Камера  \n",
       "3       Камера  \n",
       "4       Камера  "
      ]
     },
     "execution_count": 8,
     "metadata": {},
     "output_type": "execute_result"
    }
   ],
   "source": [
    "df.head()"
   ]
  },
  {
   "cell_type": "code",
   "execution_count": 9,
   "metadata": {},
   "outputs": [
    {
     "data": {
      "text/html": [
       "<div>\n",
       "<style scoped>\n",
       "    .dataframe tbody tr th:only-of-type {\n",
       "        vertical-align: middle;\n",
       "    }\n",
       "\n",
       "    .dataframe tbody tr th {\n",
       "        vertical-align: top;\n",
       "    }\n",
       "\n",
       "    .dataframe thead th {\n",
       "        text-align: right;\n",
       "    }\n",
       "</style>\n",
       "<table border=\"1\" class=\"dataframe\">\n",
       "  <thead>\n",
       "    <tr style=\"text-align: right;\">\n",
       "      <th></th>\n",
       "      <th>Тема</th>\n",
       "      <th>Описание</th>\n",
       "      <th>Тип оборудования</th>\n",
       "      <th>Точка отказа</th>\n",
       "    </tr>\n",
       "  </thead>\n",
       "  <tbody>\n",
       "    <tr>\n",
       "      <th>0</th>\n",
       "      <td>Камера не работает</td>\n",
       "      <td>Заметил, что камера на ноутбуке перестала вклю...</td>\n",
       "      <td>Ноутбук</td>\n",
       "      <td>Камера</td>\n",
       "    </tr>\n",
       "    <tr>\n",
       "      <th>1</th>\n",
       "      <td>Проблемы с камерой</td>\n",
       "      <td>Добрый день! Недавно столкнулся с проблемой, ч...</td>\n",
       "      <td>Ноутбук</td>\n",
       "      <td>Камера</td>\n",
       "    </tr>\n",
       "    <tr>\n",
       "      <th>2</th>\n",
       "      <td>Камера не отображает изображение</td>\n",
       "      <td>При попытке видеосвязи камера включается, но н...</td>\n",
       "      <td>Ноутбук</td>\n",
       "      <td>Камера</td>\n",
       "    </tr>\n",
       "    <tr>\n",
       "      <th>3</th>\n",
       "      <td>Камера не определяется системой</td>\n",
       "      <td>Камера внезапно перестала определяться системо...</td>\n",
       "      <td>Ноутбук</td>\n",
       "      <td>Камера</td>\n",
       "    </tr>\n",
       "    <tr>\n",
       "      <th>4</th>\n",
       "      <td>Камера неактивна</td>\n",
       "      <td>Камера на ноутбуке перестала работать и никак ...</td>\n",
       "      <td>Ноутбук</td>\n",
       "      <td>Камера</td>\n",
       "    </tr>\n",
       "  </tbody>\n",
       "</table>\n",
       "</div>"
      ],
      "text/plain": [
       "                               Тема  \\\n",
       "0                Камера не работает   \n",
       "1                Проблемы с камерой   \n",
       "2  Камера не отображает изображение   \n",
       "3   Камера не определяется системой   \n",
       "4                  Камера неактивна   \n",
       "\n",
       "                                            Описание Тип оборудования  \\\n",
       "0  Заметил, что камера на ноутбуке перестала вклю...          Ноутбук   \n",
       "1  Добрый день! Недавно столкнулся с проблемой, ч...          Ноутбук   \n",
       "2  При попытке видеосвязи камера включается, но н...          Ноутбук   \n",
       "3  Камера внезапно перестала определяться системо...          Ноутбук   \n",
       "4  Камера на ноутбуке перестала работать и никак ...          Ноутбук   \n",
       "\n",
       "  Точка отказа  \n",
       "0       Камера  \n",
       "1       Камера  \n",
       "2       Камера  \n",
       "3       Камера  \n",
       "4       Камера  "
      ]
     },
     "execution_count": 9,
     "metadata": {},
     "output_type": "execute_result"
    }
   ],
   "source": [
    "df_prev.head()"
   ]
  },
  {
   "cell_type": "code",
   "execution_count": 10,
   "metadata": {},
   "outputs": [],
   "source": [
    "df_final = pd.concat([df, df_prev])"
   ]
  },
  {
   "cell_type": "code",
   "execution_count": 11,
   "metadata": {},
   "outputs": [],
   "source": [
    "assert len(df_final) == len(df) + len(df_prev)"
   ]
  },
  {
   "cell_type": "code",
   "execution_count": 12,
   "metadata": {},
   "outputs": [],
   "source": [
    "df_final = df_final.reset_index(drop=True)"
   ]
  },
  {
   "cell_type": "code",
   "execution_count": 13,
   "metadata": {},
   "outputs": [
    {
     "data": {
      "text/html": [
       "<div>\n",
       "<style scoped>\n",
       "    .dataframe tbody tr th:only-of-type {\n",
       "        vertical-align: middle;\n",
       "    }\n",
       "\n",
       "    .dataframe tbody tr th {\n",
       "        vertical-align: top;\n",
       "    }\n",
       "\n",
       "    .dataframe thead th {\n",
       "        text-align: right;\n",
       "    }\n",
       "</style>\n",
       "<table border=\"1\" class=\"dataframe\">\n",
       "  <thead>\n",
       "    <tr style=\"text-align: right;\">\n",
       "      <th></th>\n",
       "      <th>Тема</th>\n",
       "      <th>Описание</th>\n",
       "      <th>Тип оборудования</th>\n",
       "      <th>Точка отказа</th>\n",
       "    </tr>\n",
       "  </thead>\n",
       "  <tbody>\n",
       "    <tr>\n",
       "      <th>0</th>\n",
       "      <td>Проблема с веб-камерой</td>\n",
       "      <td>Не могу запустить камеру на ноутбуке во время ...</td>\n",
       "      <td>Ноутбук</td>\n",
       "      <td>Камера</td>\n",
       "    </tr>\n",
       "    <tr>\n",
       "      <th>1</th>\n",
       "      <td>Камера ноутбука не функционирует</td>\n",
       "      <td>На моем ноутбуке веб-камера не работает. Пробо...</td>\n",
       "      <td>Ноутбук</td>\n",
       "      <td>Камера</td>\n",
       "    </tr>\n",
       "    <tr>\n",
       "      <th>2</th>\n",
       "      <td>Неполадки с камерой</td>\n",
       "      <td>У моего ноутбука возникла проблема: камера не ...</td>\n",
       "      <td>Ноутбук</td>\n",
       "      <td>Камера</td>\n",
       "    </tr>\n",
       "    <tr>\n",
       "      <th>3</th>\n",
       "      <td>Не работает встроенная камера</td>\n",
       "      <td>Встроенная веб-камера на ноутбуке перестала вк...</td>\n",
       "      <td>Ноутбук</td>\n",
       "      <td>Камера</td>\n",
       "    </tr>\n",
       "    <tr>\n",
       "      <th>4</th>\n",
       "      <td>Вопрос по камере ноутбука</td>\n",
       "      <td>Наткнулся на проблему с камерой на своем ноутб...</td>\n",
       "      <td>Ноутбук</td>\n",
       "      <td>Камера</td>\n",
       "    </tr>\n",
       "  </tbody>\n",
       "</table>\n",
       "</div>"
      ],
      "text/plain": [
       "                               Тема  \\\n",
       "0            Проблема с веб-камерой   \n",
       "1  Камера ноутбука не функционирует   \n",
       "2               Неполадки с камерой   \n",
       "3     Не работает встроенная камера   \n",
       "4         Вопрос по камере ноутбука   \n",
       "\n",
       "                                            Описание Тип оборудования  \\\n",
       "0  Не могу запустить камеру на ноутбуке во время ...          Ноутбук   \n",
       "1  На моем ноутбуке веб-камера не работает. Пробо...          Ноутбук   \n",
       "2  У моего ноутбука возникла проблема: камера не ...          Ноутбук   \n",
       "3  Встроенная веб-камера на ноутбуке перестала вк...          Ноутбук   \n",
       "4  Наткнулся на проблему с камерой на своем ноутб...          Ноутбук   \n",
       "\n",
       "  Точка отказа  \n",
       "0       Камера  \n",
       "1       Камера  \n",
       "2       Камера  \n",
       "3       Камера  \n",
       "4       Камера  "
      ]
     },
     "execution_count": 13,
     "metadata": {},
     "output_type": "execute_result"
    }
   ],
   "source": [
    "df_final.head()"
   ]
  },
  {
   "cell_type": "code",
   "execution_count": 15,
   "metadata": {},
   "outputs": [],
   "source": [
    "df_final.to_csv(\"new_data_v2_increased.csv\", index=False)"
   ]
  },
  {
   "cell_type": "code",
   "execution_count": null,
   "metadata": {},
   "outputs": [],
   "source": []
  },
  {
   "cell_type": "code",
   "execution_count": 16,
   "metadata": {},
   "outputs": [],
   "source": [
    "df_ = pd.read_csv(\"new_data_v2.csv\", index_col=0)"
   ]
  },
  {
   "cell_type": "code",
   "execution_count": 21,
   "metadata": {},
   "outputs": [],
   "source": [
    "df_.sample(frac=1)[:100].to_csv('submit_sample.csv', sep=\",\", index=False)"
   ]
  },
  {
   "cell_type": "code",
   "execution_count": 23,
   "metadata": {},
   "outputs": [],
   "source": [
    "data = pd.read_csv('submit_sample.csv', sep=\",\")"
   ]
  },
  {
   "cell_type": "code",
   "execution_count": 25,
   "metadata": {},
   "outputs": [
    {
     "data": {
      "text/plain": [
       "0                     Неполадки с BIOS сервера // 48765\n",
       "1                Искажение изображения на СИЛА НК2-3404\n",
       "2                  Необходима помощь с диском на DD9800\n",
       "3     Ноутбук СИЛА HK1-1425/i5-1135G7/2*8G/m.2 256G/...\n",
       "4     HK2-1405 // Не функционирует кнопка 'M' на кла...\n",
       "                            ...                        \n",
       "95                         Зарядка не работает с Huawei\n",
       "96    Не работает штатное зарядное устройство для но...\n",
       "97                  Замена диска в СХД dd503.region..ru\n",
       "98                     Непредвиденные остановки системы\n",
       "99          Ноутбук СИЛА НК2-1404: неисправность портов\n",
       "Name: Тема, Length: 100, dtype: object"
      ]
     },
     "execution_count": 25,
     "metadata": {},
     "output_type": "execute_result"
    }
   ],
   "source": [
    "data[\"Тема\"]"
   ]
  },
  {
   "cell_type": "code",
   "execution_count": 29,
   "metadata": {},
   "outputs": [
    {
     "data": {
      "text/plain": [
       "Тема                     Неисправность адаптера питания ноутбука СИЛА\n",
       "Описание            Здравствуйте! Помогите, пожалуйста. Адаптер дл...\n",
       "Тип оборудования                                              Ноутбук\n",
       "Точка отказа                                             Блок питания\n",
       "Name: 1522, dtype: object"
      ]
     },
     "execution_count": 29,
     "metadata": {},
     "output_type": "execute_result"
    }
   ],
   "source": [
    "df.loc[1522]"
   ]
  },
  {
   "cell_type": "code",
   "execution_count": 41,
   "metadata": {},
   "outputs": [
    {
     "data": {
      "text/plain": [
       "['Добрый день,\\nУ ноутбука СИЛА НК2-1404 возникла проблема: экран не включается, остается черным.']"
      ]
     },
     "execution_count": 41,
     "metadata": {},
     "output_type": "execute_result"
    }
   ],
   "source": [
    "df[df[\"Тема\"]==\"FW: Не работает экран ноутбука\"][\"Описание\"].tolist()"
   ]
  },
  {
   "cell_type": "code",
   "execution_count": 29,
   "metadata": {},
   "outputs": [],
   "source": [
    "sub = pd.read_csv(\"submit.csv\")"
   ]
  },
  {
   "cell_type": "code",
   "execution_count": null,
   "metadata": {},
   "outputs": [],
   "source": []
  },
  {
   "cell_type": "code",
   "execution_count": 9,
   "metadata": {},
   "outputs": [
    {
     "name": "stdout",
     "output_type": "stream",
     "text": [
      "Sat Nov  9 15:29:33 2024       \n",
      "+-----------------------------------------------------------------------------------------+\n",
      "| NVIDIA-SMI 551.23                 Driver Version: 551.23         CUDA Version: 12.4     |\n",
      "|-----------------------------------------+------------------------+----------------------+\n",
      "| GPU  Name                     TCC/WDDM  | Bus-Id          Disp.A | Volatile Uncorr. ECC |\n",
      "| Fan  Temp   Perf          Pwr:Usage/Cap |           Memory-Usage | GPU-Util  Compute M. |\n",
      "|                                         |                        |               MIG M. |\n",
      "|=========================================+========================+======================|\n",
      "|   0  NVIDIA GeForce RTX 3070 ...  WDDM  |   00000000:01:00.0  On |                  N/A |\n",
      "| N/A   86C    P0            103W /  109W |    6061MiB /   8192MiB |     95%      Default |\n",
      "|                                         |                        |                  N/A |\n",
      "+-----------------------------------------+------------------------+----------------------+\n",
      "                                                                                         \n",
      "+-----------------------------------------------------------------------------------------+\n",
      "| Processes:                                                                              |\n",
      "|  GPU   GI   CI        PID   Type   Process name                              GPU Memory |\n",
      "|        ID   ID                                                               Usage      |\n",
      "|=========================================================================================|\n",
      "|    0   N/A  N/A      5484    C+G   ...CBS_cw5n1h2txyewy\\TextInputHost.exe      N/A      |\n",
      "|    0   N/A  N/A      8720    C+G   ...t.LockApp_cw5n1h2txyewy\\LockApp.exe      N/A      |\n",
      "|    0   N/A  N/A     10924    C+G   ...oogle\\Chrome\\Application\\chrome.exe      N/A      |\n",
      "|    0   N/A  N/A     11108    C+G   C:\\Windows\\explorer.exe                     N/A      |\n",
      "|    0   N/A  N/A     12300    C+G   ...aming\\Telegram Desktop\\Telegram.exe      N/A      |\n",
      "|    0   N/A  N/A     12968    C+G   ...oogle\\Chrome\\Application\\chrome.exe      N/A      |\n",
      "|    0   N/A  N/A     13344      C   C:\\ProgramData\\anaconda3\\python.exe         N/A      |\n",
      "|    0   N/A  N/A     13500    C+G   ...ekyb3d8bbwe\\PhoneExperienceHost.exe      N/A      |\n",
      "|    0   N/A  N/A     15428    C+G   ...7.0_x64__cv1g1gvanyjgm\\WhatsApp.exe      N/A      |\n",
      "|    0   N/A  N/A     15648    C+G   ...5n1h2txyewy\\ShellExperienceHost.exe      N/A      |\n",
      "|    0   N/A  N/A     16688    C+G   ...__8wekyb3d8bbwe\\WindowsTerminal.exe      N/A      |\n",
      "|    0   N/A  N/A     17748    C+G   ...2txyewy\\StartMenuExperienceHost.exe      N/A      |\n",
      "|    0   N/A  N/A     19632    C+G   ...nt.CBS_cw5n1h2txyewy\\SearchHost.exe      N/A      |\n",
      "|    0   N/A  N/A     21580    C+G   ...Programs\\Microsoft VS Code\\Code.exe      N/A      |\n",
      "|    0   N/A  N/A     22960    C+G   ...GeForce Experience\\NVIDIA Share.exe      N/A      |\n",
      "|    0   N/A  N/A     28868    C+G   ...siveControlPanel\\SystemSettings.exe      N/A      |\n",
      "+-----------------------------------------------------------------------------------------+\n"
     ]
    }
   ],
   "source": [
    "!nvidia-smi"
   ]
  },
  {
   "cell_type": "code",
   "execution_count": null,
   "metadata": {},
   "outputs": [],
   "source": []
  }
 ],
 "metadata": {
  "kernelspec": {
   "display_name": "base",
   "language": "python",
   "name": "python3"
  },
  "language_info": {
   "codemirror_mode": {
    "name": "ipython",
    "version": 3
   },
   "file_extension": ".py",
   "mimetype": "text/x-python",
   "name": "python",
   "nbconvert_exporter": "python",
   "pygments_lexer": "ipython3",
   "version": "3.10.9"
  }
 },
 "nbformat": 4,
 "nbformat_minor": 2
}
